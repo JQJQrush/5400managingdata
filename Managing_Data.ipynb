{
 "cells": [
  {
   "cell_type": "markdown",
   "metadata": {
    "id": "Sw7csAPVvfmR"
   },
   "source": [
    "# 5400 Managing Data Project"
   ]
  },
  {
   "cell_type": "markdown",
   "metadata": {
    "id": "ba6tBLQLheaw"
   },
   "source": [
    "**Reference**\n",
    "\n",
    "https://www.alphavantage.co/documentation/#*intelligence*"
   ]
  },
  {
   "cell_type": "markdown",
   "metadata": {
    "id": "otYXyLWYyiEx"
   },
   "source": [
    "## Access Data"
   ]
  },
  {
   "cell_type": "markdown",
   "metadata": {
    "id": "jHCNjFClxNcn"
   },
   "source": [
    "Import Packages"
   ]
  },
  {
   "cell_type": "code",
   "execution_count": null,
   "metadata": {},
   "outputs": [],
   "source": [
    "# # downloading yahoo finance\n",
    "# !pip install yfinance"
   ]
  },
  {
   "cell_type": "code",
   "execution_count": 5,
   "metadata": {
    "id": "0Qodo0aNtoY3"
   },
   "outputs": [],
   "source": [
    "import requests\n",
    "import pandas as pd\n",
    "import json\n",
    "import yfinance as yf"
   ]
  },
  {
   "cell_type": "markdown",
   "metadata": {
    "id": "Mrqfia6ExYMd"
   },
   "source": [
    "Helper Function"
   ]
  },
  {
   "cell_type": "code",
   "execution_count": 6,
   "metadata": {
    "id": "YGC3WEXRxSya"
   },
   "outputs": [],
   "source": [
    "# create a complete api with ticker, topics, time period, and our key\n",
    "def getSingleRequest(ticker, topic, time_from, time_to, apikey):\n",
    "  request  = \"https://www.alphavantage.co/query?function=NEWS_SENTIMENT&tickers=\" + ticker +  \"&topics=\" + topic + \"&time_from=\" + time_from + \"&time_to=\" + time_to + \"&limit=1000\" + \"&apikey=\" + apikey\n",
    "  return request\n",
    "\n",
    "#  get the data from the api\n",
    "def getData(request):\n",
    "  r = requests.get(request)\n",
    "  data = r.json()\n",
    "  return data\n",
    "\n",
    "# get the top 500 S&P stock name\n",
    "def get_sp500_list():\n",
    "    url = 'https://en.wikipedia.org/wiki/List_of_S%26P_500_companies'\n",
    "    tables = pd.read_html(url)\n",
    "    sp500_table = tables[0][\"Symbol\"].tolist()\n",
    "    return sp500_table"
   ]
  },
  {
   "cell_type": "code",
   "execution_count": 7,
   "metadata": {
    "id": "ZMaJUgRlHIix"
   },
   "outputs": [],
   "source": [
    "# 500 list\n",
    "ticker = get_sp500_list()\n",
    "\n",
    "# get top 50 list\n",
    "stocks_info = []\n",
    "for symbol in ticker:\n",
    "    stock = yf.Ticker(symbol)\n",
    "    info = stock.info\n",
    "    market_cap = info.get('marketCap', 0)\n",
    "    stocks_info.append((symbol, market_cap))\n",
    "\n",
    "df = pd.DataFrame(stocks_info, columns=['Symbol', 'MarketCap'])\n",
    "\n",
    "df_sorted = df.sort_values(by='MarketCap', ascending=False)\n",
    "\n",
    "top_50_stocks = df_sorted.head(50)"
   ]
  },
  {
   "cell_type": "code",
   "execution_count": 8,
   "metadata": {
    "id": "5MgCg3fNIRxb"
   },
   "outputs": [],
   "source": [
    "# flatten to list\n",
    "top_50_stocks_list = top_50_stocks[\"Symbol\"].tolist()\n",
    "\n",
    "# 15 topics\n",
    "topics = [\n",
    "    \"blockchain\",\n",
    "    \"earnings\",\n",
    "    \"ipo\",\n",
    "    \"mergers_and_acquisitions\",\n",
    "    \"financial_markets\",\n",
    "    \"economy_fiscal\",\n",
    "    \"economy_monetary\",\n",
    "    \"economy_macro\",\n",
    "    \"energy_transportation\",\n",
    "    \"finance\",\n",
    "    \"life_sciences\",\n",
    "    \"manufacturing\",\n",
    "    \"real_estate\",\n",
    "    \"retail_wholesale\",\n",
    "    \"technology\"\n",
    "]\n"
   ]
  },
  {
   "cell_type": "code",
   "execution_count": null,
   "metadata": {
    "id": "Oyozl49Mh_hu"
   },
   "outputs": [],
   "source": [
    "# This is how a api structure\n",
    "\n",
    "# https://www.alphavantage.co/query?\n",
    "# function=NEWS_SENTIMENT   NO CAHNGE\n",
    "# &tickers=COIN,CRYPTO:BTC,FOREX:USD\n",
    "# &time_from=20220410T0130\n",
    "# &limit=1000               NO CHANGE\n",
    "# &apikey=demo\n",
    "# 150 requrest/min API key: LZQ8M6960ZB021TD\n",
    "\n",
    "\n",
    "# initiate the data\n",
    "file_path = '/content/drive/MyDrive/SPRING24/5400 Managing Data/5400 Project/data.json'\n",
    "with open(file_path, 'r') as json_file:\n",
    "    data = json.load(json_file)\n",
    "\n",
    "row_num = len(data)\n",
    "\n",
    "# finished\n",
    "# 20220401 - 20220430\n",
    "# \"20220501T0000\", \"20220531T2359\"\n",
    "# \"20220601T0000\", \"20220630T2359\"\n",
    "# \"20220701T0000\", \"20220731T2359\"\n",
    "# \"20220801T0000\", \"20220831T2359\"\n",
    "# \"20220901T0000\", \"20220930T2359\"\n",
    "# \"20221001T0000\", \"20221031T2359\"\n",
    "# \"20221101T0000\", \"20221130T2359\"\n",
    "# \"20221201T0000\", \"20221231T2359\"\n",
    "# \"20230101T0000\", \"20230131T2359\"\n",
    "# \"20230201T0000\", \"20230228T2359\"\n",
    "# \"20230301T0000\", \"20230331T2359\"\n",
    "# \"20230401T0000\", \"20230430T2359\"\n",
    "# \"20230501T0000\", \"20230531T2359\"\n",
    "# \"20230601T0000\", \"20230630T2359\"\n",
    "# \"20230701T0000\", \"20230731T2359\"\n",
    "# \"20230801T0000\", \"20230831T2359\"\n",
    "# \"20230901T0000\", \"20230930T2359\"\n",
    "# \"20231001T0000\", \"20231031T2359\"\n",
    "# \"20231201T0000\", \"20231231T2359\"\n",
    "# \"20240101T0000\", \"20240131T2359\"\n",
    "# \"20240201T0000\", \"20240229T2359\"\n",
    "# \"20240301T0000\", \"20240331T2359\"\n",
    "\n",
    "# unfinished\n",
    "# \"20220101T0000\", \"20210131T2359\"\n",
    "# \"20220201T0000\", \"20210228T2359\"\n",
    "# \"20220301T0000\", \"20210331T2359\""
   ]
  },
  {
   "cell_type": "code",
   "execution_count": null,
   "metadata": {
    "id": "OM66dadzc04o"
   },
   "outputs": [],
   "source": [
    "# current time period\n",
    "period = [\n",
    "[\"20220101T0000\", \"20210131T2359\"],\n",
    "[\"20220201T0000\", \"20210228T2359\"],\n",
    "[\"20220301T0000\", \"20210331T2359\"]\n",
    "]"
   ]
  },
  {
   "cell_type": "code",
   "execution_count": null,
   "metadata": {
    "id": "7FGpN78BKGPf"
   },
   "outputs": [],
   "source": [
    "key = \"LZQ8M6960ZB021TD\"\n",
    "# access the data with looping\n",
    "for t1,t2 in period:\n",
    "  for company in top_50_stocks_list:\n",
    "      for topic in topics:\n",
    "          request = getSingleRequest(company, topic,t1, t2, key)\n",
    "          data_cur = getData(request)\n",
    "\n",
    "          try:\n",
    "              row_num += int(data_cur['items'])\n",
    "              data.extend(data_cur['feed'])\n",
    "          except KeyError:\n",
    "              print(f\"Error: 'items' key not found for company {company} and topic{topic} during {t1} and {t2}.\")\n",
    "              continue  # Skip to the next iteration of the inner loop\n",
    "          except ValueError:\n",
    "              print(f\"Error: 'items' key not found for company {company} and topic{topic} during {t1} and {t2}.\")\n",
    "              continue  # Skip to the next iteration of the inner loop"
   ]
  },
  {
   "cell_type": "code",
   "execution_count": null,
   "metadata": {
    "colab": {
     "base_uri": "https://localhost:8080/"
    },
    "id": "C08nRS1Wdumd",
    "outputId": "f0034bf8-4606-4b1a-c21a-62f5b5bac93a"
   },
   "outputs": [
    {
     "name": "stdout",
     "output_type": "stream",
     "text": [
      "843486\n"
     ]
    }
   ],
   "source": [
    "# print current row number\n",
    "print(row_num)"
   ]
  },
  {
   "cell_type": "code",
   "execution_count": null,
   "metadata": {
    "id": "JeH_iA1HH4u9"
   },
   "outputs": [],
   "source": [
    "# write data\n",
    "# LJQ path\n",
    "file_path = '/content/drive/MyDrive/SPRING24/5400 Managing Data/5400 Project/data.json'\n",
    "\n",
    "\n",
    "# Write data to JSON file in Google Drive\n",
    "with open(file_path, 'w') as json_file:\n",
    "    json.dump(data, json_file, indent=4)"
   ]
  },
  {
   "cell_type": "markdown",
   "metadata": {
    "id": "ct4CgM6-ynUo"
   },
   "source": [
    "## Transform Data"
   ]
  },
  {
   "cell_type": "code",
   "execution_count": null,
   "metadata": {
    "id": "2LxU5UafLn77"
   },
   "outputs": [],
   "source": [
    "# reorganize dataset\n",
    "def transform_data(data):\n",
    "\n",
    "    transformed_data = []\n",
    "\n",
    "    for item in data:\n",
    "        authors_dict = {author: True for author in item['authors']}\n",
    "        topics_dict = {topic['topic']: float(topic['relevance_score']) for topic in item['topics']}\n",
    "        ticker_sentiment_dict = {\n",
    "            ticker['ticker']: {\n",
    "                'relevance_score': float(ticker['relevance_score']),\n",
    "                'ticker_sentiment_score': float(ticker['ticker_sentiment_score']),\n",
    "                'ticker_sentiment_label': ticker['ticker_sentiment_label']\n",
    "            } for ticker in item['ticker_sentiment']\n",
    "        }\n",
    "\n",
    "        transformed_item = item.copy()\n",
    "        transformed_item['authors'] = authors_dict\n",
    "        transformed_item['topics'] = topics_dict\n",
    "        transformed_item['ticker_sentiment'] = ticker_sentiment_dict\n",
    "\n",
    "        transformed_data.append(transformed_item)\n",
    "\n",
    "    return transformed_data\n",
    "\n",
    "def export_json_data(data, file_path):\n",
    "\n",
    "    with open(file_path, 'w') as file:\n",
    "        json.dump(data, file, indent=4)\n",
    "\n",
    "# Transform the data\n",
    "transformed_data = transform_data(data)\n",
    "\n",
    "# Export the transformed data to a new JSON file\n",
    "export_json_data(transformed_data, '/content/drive/MyDrive/SPRING24/5400 Managing Data/5400 Project/5400.FP.json')\n",
    "\n",
    "print(\"Transformation complete and data exported to '5400.FP.json'.\")"
   ]
  },
  {
   "cell_type": "code",
   "execution_count": null,
   "metadata": {
    "id": "b0kCmz5TM4wI"
   },
   "outputs": [],
   "source": [
    "file_path = '/content/drive/MyDrive/SPRING24/5400 Managing Data/5400 Project/5400.FP.json'\n",
    "with open(file_path, 'r') as json_file:\n",
    "    tfdata = json.load(json_file)\n",
    "\n",
    "row_num = len(tfdata)"
   ]
  },
  {
   "cell_type": "markdown",
   "metadata": {
    "id": "JKApoLbFyp7j"
   },
   "source": [
    "## Buiding up MongoDB Enviroment"
   ]
  },
  {
   "cell_type": "code",
   "execution_count": null,
   "metadata": {
    "colab": {
     "base_uri": "https://localhost:8080/"
    },
    "id": "anjxx4YGAtNE",
    "outputId": "b5e8c1a7-71a2-4cea-8185-92f73671ed9e"
   },
   "outputs": [
    {
     "name": "stdout",
     "output_type": "stream",
     "text": [
      "Requirement already satisfied: pymongo in /usr/local/lib/python3.10/dist-packages (4.6.3)\n",
      "Requirement already satisfied: dnspython<3.0.0,>=1.16.0 in /usr/local/lib/python3.10/dist-packages (from pymongo) (2.6.1)\n",
      "Requirement already satisfied: dnspython in /usr/local/lib/python3.10/dist-packages (2.6.1)\n"
     ]
    }
   ],
   "source": [
    "!pip install pymongo\n",
    "!pip install dnspython"
   ]
  },
  {
   "cell_type": "code",
   "execution_count": null,
   "metadata": {
    "id": "dIkPFoooy3OK"
   },
   "outputs": [],
   "source": [
    "from pymongo import MongoClient\n",
    "import pandas as pd\n",
    "import json \n",
    "\n",
    "client = MongoClient('localhost', 27017)\n",
    "db = client.apan5400\n",
    "collection = db['Aricles']\n",
    "\n",
    "with open('./Articles.json', 'r') as file:\n",
    "    data = json.load(file)"
   ]
  },
  {
   "cell_type": "markdown",
   "metadata": {
    "id": "A_dpnPp9yzMo"
   },
   "source": [
    "## MongoDB Queries"
   ]
  },
  {
   "cell_type": "markdown",
   "metadata": {
    "id": "byXW7unz0czK"
   },
   "source": [
    "如果我没有建好环境 你们可以用这个data"
   ]
  },
  {
   "cell_type": "code",
   "execution_count": 12,
   "metadata": {
    "colab": {
     "base_uri": "https://localhost:8080/",
     "height": 356
    },
    "id": "ylOlu5nHA8af",
    "outputId": "7b171595-3a02-4a3c-97d4-c77c726f031d"
   },
   "outputs": [],
   "source": [
    "# pipeline = [\n",
    "#     {\"$match\": {\"overall_sentiment_score\": {\"$gte\": 0}}},\n",
    "#     {\"$project\": {\"_id\": 0, \"title\": 1}}\n",
    "# ]\n",
    "\n",
    "# results = list(collection.aggregate(pipeline))\n",
    "\n",
    "# for result in results:\n",
    "#     print(result[\"title\"])"
   ]
  },
  {
   "cell_type": "code",
   "execution_count": null,
   "metadata": {
    "id": "xXg610jGCrlR"
   },
   "outputs": [],
   "source": []
  }
 ],
 "metadata": {
  "colab": {
   "provenance": []
  },
  "kernelspec": {
   "display_name": "Python 3 (ipykernel)",
   "language": "python",
   "name": "python3"
  },
  "language_info": {
   "codemirror_mode": {
    "name": "ipython",
    "version": 3
   },
   "file_extension": ".py",
   "mimetype": "text/x-python",
   "name": "python",
   "nbconvert_exporter": "python",
   "pygments_lexer": "ipython3",
   "version": "3.9.7"
  }
 },
 "nbformat": 4,
 "nbformat_minor": 4
}
